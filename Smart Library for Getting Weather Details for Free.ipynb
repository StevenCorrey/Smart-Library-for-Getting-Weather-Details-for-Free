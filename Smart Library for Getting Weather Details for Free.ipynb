{
 "cells": [
  {
   "cell_type": "markdown",
   "metadata": {},
   "source": [
    "# Smart Library for Getting Weather Details for Free  "
   ]
  },
  {
   "cell_type": "markdown",
   "metadata": {},
   "source": [
    "## My task was to develop a module in python so that Developers and Makers can use this for getting weather Updates at Free of Cost."
   ]
  },
  {
   "cell_type": "code",
   "execution_count": 4,
   "metadata": {},
   "outputs": [
    {
     "data": {
      "image/jpeg": "[encoded data removed]",
      "text/html": [
       "\n",
       "        <iframe\n",
       "            width=\"400\"\n",
       "            height=\"300\"\n",
       "            src=\"https://www.youtube.com/embed/TyFPn8mEEv0\"\n",
       "            frameborder=\"0\"\n",
       "            allowfullscreen\n",
       "        ></iframe>\n",
       "        "
      ],
      "text/plain": [
       "<IPython.lib.display.YouTubeVideo at 0x10c8d8b70>"
      ]
     },
     "execution_count": 4,
     "metadata": {},
     "output_type": "execute_result"
    }
   ],
   "source": [
    "from IPython.display import YouTubeVideo\n",
    "YouTubeVideo('TyFPn8mEEv0')"
   ]
  },
  {
   "cell_type": "markdown",
   "metadata": {},
   "source": [
    "What i did is i went to popular website for weather details and when i enter city and hit enter i monitored the network traffic. i did reverse engineering on website and found the API that they were using for weather Details. using webscrapping i extract all details and thats how i made a module to get weather Data based on ZipCode "
   ]
  },
  {
   "cell_type": "markdown",
   "metadata": {},
   "source": [
    "# How to use this Library "
   ]
  },
  {
   "cell_type": "markdown",
   "metadata": {},
   "source": [
    "## This will give following details \n",
    "dew_point, feelsLike,humidity,observationTime, temperature,visibility,windspeed,winddegree, winddirection"
   ]
  },
  {
   "cell_type": "markdown",
   "metadata": {},
   "source": [
    "## 2 Line of code and its that Easy "
   ]
  },
  {
   "cell_type": "code",
   "execution_count": 2,
   "metadata": {
    "scrolled": true
   },
   "outputs": [
    {
     "name": "stdout",
     "output_type": "stream",
     "text": [
      "(40, 64, 40, '2019-05-11T14:05:33-0400', 65, 10.0, 12, 330, 'NNW')\n"
     ]
    }
   ],
   "source": [
    "w = Weather()\n",
    "print(w.weather_get(zip='06604'))"
   ]
  },
  {
   "cell_type": "markdown",
   "metadata": {},
   "source": [
    "# The code for Library or class written in Python"
   ]
  },
  {
   "cell_type": "code",
   "execution_count": 1,
   "metadata": {},
   "outputs": [],
   "source": [
    "import json\n",
    "import requests\n",
    "\n",
    "\n",
    "class Weather(object):\n",
    "    def __init__(self):\n",
    "        self.__headers = {\n",
    "        'Accept-Encoding': 'gzip, deflate, sdch',\n",
    "        'Accept-Language': 'en-US,en;q=0.8',\n",
    "        'User-Agent': 'Mozilla/5.0 (Macintosh; Intel Mac OS X 10_10_1) AppleWebKit/537.36 (KHTML, like Gecko) Chrome/39.0.2171.95 Safari/537.36',\n",
    "        'Accept': 'text/html,application/xhtml+xml,application/xml;q=0.9,image/webp,*/*;q=0.8',\n",
    "        'Referer': 'http://www.wikipedia.org/',\n",
    "        'Connection': 'keep-alive',\n",
    "    }\n",
    "\n",
    "    def __get_lat_lon(self,zipcode='06604'):\n",
    "\n",
    "        \"\"\"\n",
    "        This is Private class Client dont have Access to this\n",
    "        :param zipcode: Takes Zip Code\n",
    "        :return: Lat and Long\n",
    "        \"\"\"\n",
    "        self.__url_zip = 'https://api.promaptools.com/service/us/zip-lat-lng/get/'\n",
    "\n",
    "        params = {\n",
    "            'key': '17o8dysaCDrgv1c',\n",
    "            'zip':zipcode\n",
    "        }\n",
    "\n",
    "        r = requests.get(url=self.__url_zip,headers=self.__headers,params=params)\n",
    "        data = r.json()\n",
    "\n",
    "        for x in data[\"output\"]:\n",
    "            return x[\"latitude\"], x[\"longitude\"]\n",
    "\n",
    "    def weather_get(self,zip='06604'):\n",
    "        \"\"\"\n",
    "\n",
    "        :param zip: Takes Zip code as String\n",
    "        :return: Weather Information\n",
    "        \"\"\"\n",
    "\n",
    "        lat, long = self.__get_lat_lon(zip)\n",
    "\n",
    "        data = '{},{}'.format(lat,long)\n",
    "\n",
    "        self.__url_weather = \"https://api.weather.com/v2/turbo/vt1observation\"\n",
    "\n",
    "        params= {\n",
    "            'apiKey': 'd522aa97197fd864d36b418f39ebb323',\n",
    "            'format': 'json',\n",
    "            'geocode': data,\n",
    "            'language': 'en-US',\n",
    "            'units':'e'\n",
    "        }\n",
    "\n",
    "        r2 = requests.get(url=self.__url_weather,headers=self.__headers,params=params)\n",
    "\n",
    "        r2_data = r2.json()\n",
    "\n",
    "        dew_point = r2_data[\"vt1observation\"][\"dewPoint\"]\n",
    "        feelsLike = r2_data[\"vt1observation\"][\"feelsLike\"]\n",
    "        humidity = r2_data[\"vt1observation\"][\"humidity\"]\n",
    "        observationTime = r2_data[\"vt1observation\"][\"observationTime\"]\n",
    "        temperature = r2_data[\"vt1observation\"][\"temperature\"]\n",
    "        visibility = r2_data[\"vt1observation\"][\"visibility\"]\n",
    "        windspeed = r2_data[\"vt1observation\"][\"windSpeed\"]\n",
    "        winddegree = r2_data[\"vt1observation\"][\"windDirDegrees\"]\n",
    "        winddirection = r2_data[\"vt1observation\"][\"windDirCompass\"]\n",
    "\n",
    "        return dew_point,\\\n",
    "               feelsLike,\\\n",
    "               humidity,\\\n",
    "               observationTime,\\\n",
    "               temperature,\\\n",
    "               visibility,\\\n",
    "b               windspeed,\\\n",
    "               winddegree,\\\n",
    "               winddirection\n"
   ]
  },
  {
   "cell_type": "markdown",
   "metadata": {},
   "source": [
    "# Thanks you !"
   ]
  }
 ],
 "metadata": {
  "kernelspec": {
   "display_name": "Python 3",
   "language": "python",
   "name": "python3"
  },
  "language_info": {
   "codemirror_mode": {
    "name": "ipython",
    "version": 3
   },
   "file_extension": ".py",
   "mimetype": "text/x-python",
   "name": "python",
   "nbconvert_exporter": "python",
   "pygments_lexer": "ipython3",
   "version": "3.7.3"
  }
 },
 "nbformat": 4,
 "nbformat_minor": 2
}
